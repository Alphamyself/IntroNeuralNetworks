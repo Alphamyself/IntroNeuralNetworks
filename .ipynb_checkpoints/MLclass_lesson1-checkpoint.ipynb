{
 "cells": [
  {
   "cell_type": "markdown",
   "metadata": {},
   "source": [
    "### Import Packages (make sure setup.txt is completed)"
   ]
  },
  {
   "cell_type": "code",
   "execution_count": 14,
   "metadata": {
    "collapsed": true
   },
   "outputs": [],
   "source": [
    "# Import necessary modules for lesson\n",
    "%matplotlib inline\n",
    "import matplotlib.pyplot as plt\n",
    "import numpy as np"
   ]
  },
  {
   "cell_type": "markdown",
   "metadata": {},
   "source": [
    "# Chapter 1: Introduction"
   ]
  },
  {
   "cell_type": "markdown",
   "metadata": {},
   "source": [
    "## Section 1: Foward Propogation"
   ]
  },
  {
   "cell_type": "code",
   "execution_count": 8,
   "metadata": {},
   "outputs": [],
   "source": [
    "# Setup \n",
    "# Normally, weights start at some random distribution and then get adjusted through \"backward propogation\".\n",
    "# Try to play around with the weights until you get an intuitive output for your input.\n",
    "# Note how you adjust the weights... the computer will have to do this later...\n",
    "weights = {\"node_0\" : np.array([-1, 1]), \"node_1\" : np.array([-1, 1]), \"output\" : np.array([-2, -1])}\n",
    "sleep = 15\n",
    "study = 3\n",
    "input_data = np.array([sleep, study])\n",
    "output_str = \"Predicting (with {}) a {}% on test for {} hours of sleep and {} hours of study.\""
   ]
  },
  {
   "cell_type": "code",
   "execution_count": 9,
   "metadata": {},
   "outputs": [
    {
     "name": "stdout",
     "output_type": "stream",
     "text": [
      "Predicting (with identity) a 114% on test for 15 hours of sleep and 3 hours of study.\n"
     ]
    }
   ],
   "source": [
    "# Calculate node 0 value: node_0_value\n",
    "node_0_value = (input_data * weights[\"node_0\"]).sum()\n",
    "\n",
    "# Calculate node 1 value: node_1_value\n",
    "node_1_value = _____\n",
    "\n",
    "# Put node values into array: hidden_layer_outputs\n",
    "hidden_layer_outputs = np.array([node_0_value, node_1_value])\n",
    "\n",
    "# Calculate output: output\n",
    "output = (_____ * weights[\"output\"]).sum()\n",
    "\n",
    "# Print output\n",
    "print(output_str.format(\"identity\", output, sleep, study))"
   ]
  },
  {
   "cell_type": "markdown",
   "metadata": {},
   "source": [
    "## Section 2: Activation Functions"
   ]
  },
  {
   "cell_type": "code",
   "execution_count": 10,
   "metadata": {},
   "outputs": [
    {
     "name": "stdout",
     "output_type": "stream",
     "text": [
      "Predicting (with tanh) a 92.0% on test for 15 hours of sleep and 3 hours of study.\n"
     ]
    }
   ],
   "source": [
    "# Apply the np.tanh function to the output of node_0_value and node_1_value\n",
    "\n",
    "# Calculate node 0 value: node_0_value\n",
    "node_0_value = _____\n",
    "# Calculate node 0 output applying the 'np.tanh' activation function to the node_0_value\n",
    "node_0_output = np.tanh(node_0_value)\n",
    "\n",
    "# Calculate node 1 value: node_1_value\n",
    "# Calculate node 1 output in the same way as node 0 output\n",
    "node_1_value = _____\n",
    "node_1_output = _____\n",
    "\n",
    "# Put node values into array (don't give an activation functions to the output)\n",
    "hidden_layer_outputs = _____\n",
    "\n",
    "# Calculate output: output (notice no tanh on output)\n",
    "tanh_output = (hidden_layer_outputs * weights[\"output\"]).sum()\n",
    "\n",
    "# Print output\n",
    "print(output_str.format(\"tanh\", round(tanh_output), sleep, study))"
   ]
  },
  {
   "cell_type": "code",
   "execution_count": 11,
   "metadata": {},
   "outputs": [
    {
     "name": "stdout",
     "output_type": "stream",
     "text": [
      "Predicting (with relu) a 90% on test for 15 hours of sleep and 3 hours of study.\n"
     ]
    }
   ],
   "source": [
    "def relu(input):\n",
    "    '''Define your relu activation function here'''\n",
    "    # Calculate the value for the output of the relu function: output\n",
    "    # The output should be 0 if input is less than 0 and the input otherwise\n",
    "    output = _____\n",
    "    \n",
    "    # Return the value just calculated\n",
    "    _____\n",
    "\n",
    "# Calculate node 0 value: node_0_output\n",
    "node_0_input = (input_data * weights['node_0']).sum()\n",
    "# Calculate node 0 output applying the 'relu' activation function to the node_0_value\n",
    "\n",
    "node_0_output = _____(node_0_input)\n",
    "\n",
    "# Calculate node 1 value: node_1_output\n",
    "node_1_input = (input_data * weights['node_1']).sum()\n",
    "node_1_output = _____(node_1_input)\n",
    "\n",
    "# Put node values into array: hidden_layer_outputs\n",
    "hidden_layer_outputs = np.array([node_0_output, node_1_output])\n",
    "\n",
    "# Calculate model output\n",
    "relu_output = (hidden_layer_outputs * weights['output']).sum()\n",
    "\n",
    "# Print model output\n",
    "print(output_str.format(\"relu\", relu_output, sleep, study))"
   ]
  },
  {
   "cell_type": "markdown",
   "metadata": {},
   "source": [
    "## Section 3: Multiple Input Samples"
   ]
  },
  {
   "cell_type": "code",
   "execution_count": 23,
   "metadata": {},
   "outputs": [],
   "source": [
    "# Setup: Make an array of [sleep, study = 5] input pairs for testing on model\n",
    "mutiple_sample_input_data = np.array([[sleep,5] for sleep in range(0, 20, 2)])"
   ]
  },
  {
   "cell_type": "code",
   "execution_count": 24,
   "metadata": {},
   "outputs": [
    {
     "name": "stdout",
     "output_type": "stream",
     "text": [
      "Predicting (with identity) a 15% on test for 0 hours of sleep and 5 hours of study.\n",
      "Predicting (with relu) a 15% on test for 0 hours of sleep and 5 hours of study.\n",
      "Predicting (with tanh) a 3.0% on test for 0 hours of sleep and 5 hours of study.\n",
      "Predicting (with identity) a 29% on test for 2 hours of sleep and 5 hours of study.\n",
      "Predicting (with relu) a 29% on test for 2 hours of sleep and 5 hours of study.\n",
      "Predicting (with tanh) a 3.0% on test for 2 hours of sleep and 5 hours of study.\n",
      "Predicting (with identity) a 43% on test for 4 hours of sleep and 5 hours of study.\n",
      "Predicting (with relu) a 43% on test for 4 hours of sleep and 5 hours of study.\n",
      "Predicting (with tanh) a 3.0% on test for 4 hours of sleep and 5 hours of study.\n",
      "Predicting (with identity) a 57% on test for 6 hours of sleep and 5 hours of study.\n",
      "Predicting (with relu) a 55% on test for 6 hours of sleep and 5 hours of study.\n",
      "Predicting (with tanh) a 7.0% on test for 6 hours of sleep and 5 hours of study.\n",
      "Predicting (with identity) a 71% on test for 8 hours of sleep and 5 hours of study.\n",
      "Predicting (with relu) a 65% on test for 8 hours of sleep and 5 hours of study.\n",
      "Predicting (with tanh) a 7.0% on test for 8 hours of sleep and 5 hours of study.\n",
      "Predicting (with identity) a 85% on test for 10 hours of sleep and 5 hours of study.\n",
      "Predicting (with relu) a 75% on test for 10 hours of sleep and 5 hours of study.\n",
      "Predicting (with tanh) a 7.0% on test for 10 hours of sleep and 5 hours of study.\n",
      "Predicting (with identity) a 99% on test for 12 hours of sleep and 5 hours of study.\n",
      "Predicting (with relu) a 85% on test for 12 hours of sleep and 5 hours of study.\n",
      "Predicting (with tanh) a 7.0% on test for 12 hours of sleep and 5 hours of study.\n",
      "Predicting (with identity) a 113% on test for 14 hours of sleep and 5 hours of study.\n",
      "Predicting (with relu) a 95% on test for 14 hours of sleep and 5 hours of study.\n",
      "Predicting (with tanh) a 7.0% on test for 14 hours of sleep and 5 hours of study.\n",
      "Predicting (with identity) a 127% on test for 16 hours of sleep and 5 hours of study.\n",
      "Predicting (with relu) a 105% on test for 16 hours of sleep and 5 hours of study.\n",
      "Predicting (with tanh) a 7.0% on test for 16 hours of sleep and 5 hours of study.\n",
      "Predicting (with identity) a 141% on test for 18 hours of sleep and 5 hours of study.\n",
      "Predicting (with relu) a 115% on test for 18 hours of sleep and 5 hours of study.\n",
      "Predicting (with tanh) a 7.0% on test for 18 hours of sleep and 5 hours of study.\n"
     ]
    }
   ],
   "source": [
    "# Define predict_with_network()\n",
    "def predict_with_network(input_data_row, weights, activate_f = lambda x: x):\n",
    "\n",
    "    # Calculate node 0 value\n",
    "    node_0_input  = (input_data_row*weights[\"node_0\"]).sum()\n",
    "    node_0_output = activate_f(node_0_input)\n",
    "\n",
    "    # Calculate node 1 value\n",
    "    node_1_input  = (input_data_row*weights[\"node_1\"]).sum()\n",
    "    node_1_output = activate_f(node_1_input)\n",
    "\n",
    "    # Put node values into array: hidden_layer_outputs\n",
    "    hidden_layer_outputs = np.array([node_0_output, node_1_output])\n",
    "    \n",
    "    # Calculate model output\n",
    "    input_to_final_layer = (hidden_layer_outputs*weights[\"output\"]).sum()\n",
    "    model_output = (input_to_final_layer)\n",
    "    \n",
    "    # Return model output\n",
    "    return(model_output)\n",
    "\n",
    "\n",
    "# Print model output on multiple inputs with comparison activation functions\n",
    "outputs = []\n",
    "for input_data_row in mutiple_sample_input_data:\n",
    "    identity_output = predict_with_network(input_data_row, weights)\n",
    "    print(output_str.format(\"identity\", identity_output, input_data_row[0], input_data_row[1]))\n",
    "    relu_output = predict_with_network(input_data_row, weights, relu)\n",
    "    print(output_str.format(\"relu\", relu_output, input_data_row[0], input_data_row[1]))\n",
    "    tanh_output = predict_with_network(input_data_row, weights, np.tanh)\n",
    "    print(output_str.format(\"tanh\", round(tanh_output), input_data_row[0], input_data_row[1]))\n",
    "    outputs.append((identity_output, relu_output, tanh_output))"
   ]
  },
  {
   "cell_type": "code",
   "execution_count": 25,
   "metadata": {},
   "outputs": [
    {
     "data": {
      "image/png": "[encoded data removed]",
      "text/plain": [
       "<matplotlib.figure.Figure at 0x104385b00>"
      ]
     },
     "metadata": {},
     "output_type": "display_data"
    }
   ],
   "source": [
    "plt.plot(range(0,20,2), [output[0] for output in outputs])\n",
    "plt.plot(range(0,20,2), [output[1] for output in outputs])\n",
    "plt.plot(range(0,20,2), [output[2] for output in outputs])\n",
    "\n",
    "plt.legend(['identity', 'relu', 'tanh'], loc='upper left')\n",
    "\n",
    "plt.show()"
   ]
  },
  {
   "cell_type": "code",
   "execution_count": null,
   "metadata": {
    "collapsed": true
   },
   "outputs": [],
   "source": []
  }
 ],
 "metadata": {
  "kernelspec": {
   "display_name": "Python 3",
   "language": "python",
   "name": "python3"
  },
  "language_info": {
   "codemirror_mode": {
    "name": "ipython",
    "version": 3
   },
   "file_extension": ".py",
   "mimetype": "text/x-python",
   "name": "python",
   "nbconvert_exporter": "python",
   "pygments_lexer": "ipython3",
   "version": "3.5.1"
  }
 },
 "nbformat": 4,
 "nbformat_minor": 2
}
