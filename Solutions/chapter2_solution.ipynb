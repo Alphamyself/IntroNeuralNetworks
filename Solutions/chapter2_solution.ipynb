{
 "cells": [
  {
   "cell_type": "markdown",
   "metadata": {},
   "source": [
    "# Chapter  2: Optimizing a Network with Backpropagation"
   ]
  },
  {
   "cell_type": "markdown",
   "metadata": {},
   "source": [
    "## Lesson 1: Adjusting Weights Manually to Get a Better Prediction"
   ]
  },
  {
   "cell_type": "code",
   "execution_count": 3,
   "metadata": {
    "collapsed": true
   },
   "outputs": [],
   "source": [
    "# adjust the weights until you find the perfect output for is set of inputs\n",
    "# from sklearn.metrics import mean_squared_error\n",
    "# now use the from MSE to calculate errors for a series of sets of inputs, each set conaining the data to make a single prediction"
   ]
  },
  {
   "cell_type": "code",
   "execution_count": 4,
   "metadata": {
    "collapsed": true
   },
   "outputs": [],
   "source": [
    "# Import necessary modules\n",
    "%matplotlib inline\n",
    "import matplotlib.pyplot as plt\n",
    "import numpy as np\n",
    "import pandas as pd"
   ]
  },
  {
   "cell_type": "markdown",
   "metadata": {},
   "source": [
    "## Lesson 2: Algorithm to Automatically Adjust Weights (Gradient Decent)"
   ]
  },
  {
   "cell_type": "markdown",
   "metadata": {},
   "source": [
    "### Gradient Decent for a Single Node"
   ]
  },
  {
   "cell_type": "code",
   "execution_count": 7,
   "metadata": {},
   "outputs": [
    {
     "data": {
      "image/png": "[encoded data removed]",
      "text/plain": [
       "<matplotlib.figure.Figure at 0x10fa7ff28>"
      ]
     },
     "metadata": {},
     "output_type": "display_data"
    }
   ],
   "source": [
    "# (From the slides on adjusting one node in a zero hidden layer network)\n",
    "# Play around with input, starting weight and predicted to see how the computer is adjusting the weight\n",
    "\n",
    "# Setup an example input: input1\n",
    "input1 = 4\n",
    "\n",
    "# Set an initial (randomized) weight: weight1\n",
    "weight1 = 1\n",
    "\n",
    "predicted = input1 * weight1\n",
    "\n",
    "# Set expected value for output\n",
    "expected = 8\n",
    "\n",
    "# Set learning rate: lr\n",
    "lr = .01\n",
    "\n",
    "output = []\n",
    "for _ in range (39):\n",
    "    # Caculate the error associated with the prediction\n",
    "    error = predicted - expected\n",
    "    \n",
    "    # Calculate the gradient in respect to the weight: gradient\n",
    "    adj = 2 * (error) * input1\n",
    "    \n",
    "    # Subtract the adj*lr from the current weight value\n",
    "    weight1 = weight1 - adj * lr\n",
    "    \n",
    "    # Predict a new value with the updated weight\n",
    "    predicted = input1 * weight1\n",
    "    \n",
    "    # Append the new predicted value to the list of outputs\n",
    "    output.append(predicted)\n",
    "\n",
    "# Plot the predicted values over the iterations\n",
    "fig = plt.figure()\n",
    "ax = fig.add_subplot(111)\n",
    "ax.plot(range(1, 40), output)\n",
    "ax.set_xlabel('Iterations')\n",
    "ax.set_ylabel('Predicted')\n",
    "\n",
    "plt.show()"
   ]
  },
  {
   "cell_type": "markdown",
   "metadata": {},
   "source": [
    "### Calculating Gradient for Multiple Weights"
   ]
  },
  {
   "cell_type": "code",
   "execution_count": 14,
   "metadata": {
    "collapsed": true
   },
   "outputs": [],
   "source": [
    "# Setup the weights, input_data and target\n",
    "weights = np.array([5, 7])\n",
    "sleep = 8\n",
    "study = 5\n",
    "input_data = np.array([sleep, study])\n",
    "target = 80"
   ]
  },
  {
   "cell_type": "code",
   "execution_count": 15,
   "metadata": {},
   "outputs": [
    {
     "name": "stdout",
     "output_type": "stream",
     "text": [
      "Guessed 75 but actual value was 80. Calculated a gradient for the weights as [-80 -50] respectively.\n",
      "Recall that to update the weights, its weight = weight - gradient * learning_rate.\n"
     ]
    }
   ],
   "source": [
    "# Calculate the prediction for the sleep and study input: prediction\n",
    "prediction = (weights * input_data).sum()\n",
    "\n",
    "# Calculate the error: error\n",
    "error = prediction - target\n",
    "\n",
    "# Calculate the gradient: gradient\n",
    "# Notice derivative of activation function \"missing\"... because no activation function on input nodes\n",
    "gradient = 2 * input_data * error\n",
    "\n",
    "# Print the gradient\n",
    "print(\"Guessed {} but actual value was {}. Calculated a gradient for the weights as {} respectively.\".format(prediction, target, gradient))\n",
    "print(\"Recall that to update the weights, its weight = weight - gradient * learning_rate.\")"
   ]
  },
  {
   "cell_type": "markdown",
   "metadata": {},
   "source": [
    "### Performing Gradient Decent on Multiple Weights"
   ]
  },
  {
   "cell_type": "code",
   "execution_count": 389,
   "metadata": {},
   "outputs": [
    {
     "name": "stdout",
     "output_type": "stream",
     "text": [
      "-5\n",
      "3.9\n"
     ]
    }
   ],
   "source": [
    "# Set the learning rate constant: LEARNING_RATE\n",
    "LEARNING_RATE = 0.01\n",
    "\n",
    "# Calculate the prediction: prediction\n",
    "prediction = (weights * input_data).sum()\n",
    "\n",
    "# Calculate the error: error\n",
    "error = prediction - target\n",
    "\n",
    "# Calculate the gradient: gradient\n",
    "gradient = 2 * input_data * error\n",
    "\n",
    "# Update the weights: weights_updated\n",
    "weights_updated = weights -  gradient * LEARNING_RATE\n",
    "\n",
    "# Get updated prediction: pred_updated\n",
    "pred_updated = (weights_updated * input_data).sum()\n",
    "\n",
    "# Calculate updated error: error_updated\n",
    "error_updated = pred_updated - target\n",
    "\n",
    "# Print the original error\n",
    "print(error)\n",
    "\n",
    "# Print the updated error\n",
    "print(error_updated)"
   ]
  }
 ],
 "metadata": {
  "kernelspec": {
   "display_name": "Python 3",
   "language": "python",
   "name": "python3"
  },
  "language_info": {
   "codemirror_mode": {
    "name": "ipython",
    "version": 3
   },
   "file_extension": ".py",
   "mimetype": "text/x-python",
   "name": "python",
   "nbconvert_exporter": "python",
   "pygments_lexer": "ipython3",
   "version": "3.5.1"
  }
 },
 "nbformat": 4,
 "nbformat_minor": 2
}
