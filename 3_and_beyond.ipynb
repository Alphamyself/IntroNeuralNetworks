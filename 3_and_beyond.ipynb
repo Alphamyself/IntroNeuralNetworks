{
 "cells": [
  {
   "cell_type": "markdown",
   "metadata": {},
   "source": [
    "# Where Do I Go From Here? \n",
    "\n",
    "You have the basic tools you need to get started. Now you need practice! [UCI ML Datasets](https://archive.ics.uci.edu/ml/datasets.html) is a great place to get many currated datasets. These are awesome because you don't have to do any data cleaning. [Machine Learning Mastery](https://machinelearningmastery.com/practice-machine-learning-with-small-in-memory-datasets-from-the-uci-machine-learning-repository/) does a short tutorial on how to get the most out of this resource. Here are some good datasets to get you started.\n",
    "\n",
    "- [Can you predict the rating wine will get?](https://archive.ics.uci.edu/ml/datasets/wine+quality)\n",
    "- [Can you predict how many mpg a car can get?](https://archive.ics.uci.edu/ml/datasets/auto+mpg)\n",
    "- [Can you predict if a client will default on thier loan?](https://archive.ics.uci.edu/ml/datasets/default+of+credit+card+clients)\n",
    "- ...\n",
    "    \n",
    "You can download any of these datasets or any other off the UCI database using the following code. All you need to do is change the name of the dataset you are using in the link and find out the new names for the dataset:"
   ]
  },
  {
   "cell_type": "code",
   "execution_count": 3,
   "metadata": {},
   "outputs": [
    {
     "data": {
      "text/html": [
       "<div>\n",
       "<style scoped>\n",
       "    .dataframe tbody tr th:only-of-type {\n",
       "        vertical-align: middle;\n",
       "    }\n",
       "\n",
       "    .dataframe tbody tr th {\n",
       "        vertical-align: top;\n",
       "    }\n",
       "\n",
       "    .dataframe thead th {\n",
       "        text-align: right;\n",
       "    }\n",
       "</style>\n",
       "<table border=\"1\" class=\"dataframe\">\n",
       "  <thead>\n",
       "    <tr style=\"text-align: right;\">\n",
       "      <th></th>\n",
       "      <th>mpg</th>\n",
       "      <th>cylinders</th>\n",
       "      <th>displacement</th>\n",
       "      <th>weight</th>\n",
       "      <th>acceleration</th>\n",
       "      <th>model_year</th>\n",
       "      <th>origin</th>\n",
       "      <th>car_name</th>\n",
       "    </tr>\n",
       "  </thead>\n",
       "  <tbody>\n",
       "    <tr>\n",
       "      <th>18.0</th>\n",
       "      <td>8</td>\n",
       "      <td>307.0</td>\n",
       "      <td>130.0</td>\n",
       "      <td>3504.0</td>\n",
       "      <td>12.0</td>\n",
       "      <td>70</td>\n",
       "      <td>1</td>\n",
       "      <td>chevrolet chevelle malibu</td>\n",
       "    </tr>\n",
       "    <tr>\n",
       "      <th>15.0</th>\n",
       "      <td>8</td>\n",
       "      <td>350.0</td>\n",
       "      <td>165.0</td>\n",
       "      <td>3693.0</td>\n",
       "      <td>11.5</td>\n",
       "      <td>70</td>\n",
       "      <td>1</td>\n",
       "      <td>buick skylark 320</td>\n",
       "    </tr>\n",
       "    <tr>\n",
       "      <th>18.0</th>\n",
       "      <td>8</td>\n",
       "      <td>318.0</td>\n",
       "      <td>150.0</td>\n",
       "      <td>3436.0</td>\n",
       "      <td>11.0</td>\n",
       "      <td>70</td>\n",
       "      <td>1</td>\n",
       "      <td>plymouth satellite</td>\n",
       "    </tr>\n",
       "    <tr>\n",
       "      <th>16.0</th>\n",
       "      <td>8</td>\n",
       "      <td>304.0</td>\n",
       "      <td>150.0</td>\n",
       "      <td>3433.0</td>\n",
       "      <td>12.0</td>\n",
       "      <td>70</td>\n",
       "      <td>1</td>\n",
       "      <td>amc rebel sst</td>\n",
       "    </tr>\n",
       "    <tr>\n",
       "      <th>17.0</th>\n",
       "      <td>8</td>\n",
       "      <td>302.0</td>\n",
       "      <td>140.0</td>\n",
       "      <td>3449.0</td>\n",
       "      <td>10.5</td>\n",
       "      <td>70</td>\n",
       "      <td>1</td>\n",
       "      <td>ford torino</td>\n",
       "    </tr>\n",
       "  </tbody>\n",
       "</table>\n",
       "</div>"
      ],
      "text/plain": [
       "      mpg  cylinders displacement  weight  acceleration  model_year  origin  \\\n",
       "18.0    8      307.0        130.0  3504.0          12.0          70       1   \n",
       "15.0    8      350.0        165.0  3693.0          11.5          70       1   \n",
       "18.0    8      318.0        150.0  3436.0          11.0          70       1   \n",
       "16.0    8      304.0        150.0  3433.0          12.0          70       1   \n",
       "17.0    8      302.0        140.0  3449.0          10.5          70       1   \n",
       "\n",
       "                       car_name  \n",
       "18.0  chevrolet chevelle malibu  \n",
       "15.0          buick skylark 320  \n",
       "18.0         plymouth satellite  \n",
       "16.0              amc rebel sst  \n",
       "17.0                ford torino  "
      ]
     },
     "execution_count": 3,
     "metadata": {},
     "output_type": "execute_result"
    }
   ],
   "source": [
    "import pandas as pd\n",
    "\n",
    "# Location of dataset\n",
    "url = \"https://archive.ics.uci.edu/ml/machine-learning-databases/auto-mpg/auto-mpg.data\"\n",
    "\n",
    "# Assign column names to the dataset\n",
    "\"\"\"\n",
    "Names here: https://archive.ics.uci.edu/ml/machine-learning-databases/auto-mpg/auto-mpg.names\n",
    "    1. mpg:           continuous\n",
    "    2. cylinders:     multi-valued discrete\n",
    "    3. displacement:  continuous\n",
    "    4. horsepower:    continuous\n",
    "    5. weight:        continuous\n",
    "    6. acceleration:  continuous\n",
    "    7. model year:    multi-valued discrete\n",
    "    8. origin:        multi-valued discrete\n",
    "    9. car name:      string (unique for each instance)\n",
    "\"\"\"\n",
    "names = ['mpg', 'cylinders', 'displacement', 'weight', 'acceleration', 'model_year', 'origin', 'car_name']\n",
    "\n",
    "# Read dataset to pandas dataframe\n",
    "auto_mpg = pd.read_csv(url, delim_whitespace=True, names=names)\n",
    "\n",
    "# Show dataframe\n",
    "auto_mpg.head()"
   ]
  },
  {
   "cell_type": "markdown",
   "metadata": {},
   "source": [
    "**Remember:** \"Preparing your data\" involves data cleaning (like dealing with missing values, encoding catagorical values), understanding your data deeply, and then scaling/normalizing it (for many ML models this is useful). Only then should you precede to choose a model and fit that model."
   ]
  },
  {
   "cell_type": "markdown",
   "metadata": {},
   "source": [
    "![ML Workflow](https://3qeqpr26caki16dnhd19sv6by6v-wpengine.netdna-ssl.com/wp-content/uploads/2015/08/Machine-Learning-for-Programmers-Select-a-Systematic-Process-300x282.png)"
   ]
  },
  {
   "cell_type": "markdown",
   "metadata": {},
   "source": [
    "### Now go and be a ML wizard!"
   ]
  },
  {
   "cell_type": "code",
   "execution_count": null,
   "metadata": {},
   "outputs": [],
   "source": []
  }
 ],
 "metadata": {
  "kernelspec": {
   "display_name": "Python 3",
   "language": "python",
   "name": "python3"
  },
  "language_info": {
   "codemirror_mode": {
    "name": "ipython",
    "version": 3
   },
   "file_extension": ".py",
   "mimetype": "text/x-python",
   "name": "python",
   "nbconvert_exporter": "python",
   "pygments_lexer": "ipython3",
   "version": "3.7.0"
  }
 },
 "nbformat": 4,
 "nbformat_minor": 2
}
