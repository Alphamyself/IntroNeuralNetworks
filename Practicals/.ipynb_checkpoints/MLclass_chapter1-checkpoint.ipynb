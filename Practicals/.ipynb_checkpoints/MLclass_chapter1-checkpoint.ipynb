{
 "cells": [
  {
   "cell_type": "markdown",
   "metadata": {},
   "source": [
    "### Import Packages (make sure setup.txt is completed)"
   ]
  },
  {
   "cell_type": "code",
   "execution_count": null,
   "metadata": {
    "collapsed": true
   },
   "outputs": [],
   "source": [
    "# Import necessary modules for lesson\n",
    "%matplotlib inline\n",
    "import matplotlib.pyplot as plt\n",
    "import numpy as np"
   ]
  },
  {
   "cell_type": "markdown",
   "metadata": {},
   "source": [
    "# Chapter 1: Introduction"
   ]
  },
  {
   "cell_type": "markdown",
   "metadata": {},
   "source": [
    "## Section 1: Foward Propogation"
   ]
  },
  {
   "cell_type": "code",
   "execution_count": null,
   "metadata": {
    "collapsed": true
   },
   "outputs": [],
   "source": [
    "# Setup \n",
    "# Normally, weights start at some random distribution and then get adjusted through \"backward propogation\".\n",
    "# Try to play around with the weights until you get an intuitive output for your input.\n",
    "# Note how you adjust the weights... the computer will have to do this later...\n",
    "weights = {\"node_0\" : np.array([-1, 1]), \"node_1\" : np.array([-1, 1]), \"output\" : np.array([-2, -1])}\n",
    "sleep = 15\n",
    "study = 3\n",
    "input_data = np.array([sleep, study])\n",
    "output_str = \"Predicting (with {}) a {}% on test for {} hours of sleep and {} hours of study.\""
   ]
  },
  {
   "cell_type": "code",
   "execution_count": null,
   "metadata": {},
   "outputs": [],
   "source": [
    "# Calculate node 0 value: node_0_value\n",
    "node_0_value = (input_data * weights[\"node_0\"]).sum()\n",
    "\n",
    "# Calculate node 1 value: node_1_value\n",
    "node_1_value = _____\n",
    "\n",
    "# Put node values into array: hidden_layer_outputs\n",
    "hidden_layer_outputs = np.array([node_0_value, node_1_value])\n",
    "\n",
    "# Calculate output: output (notice no activation on output -- more on this later)\n",
    "output = (_____ * weights[\"output\"]).sum()\n",
    "\n",
    "# Print output\n",
    "print(output_str.format(\"identity\", output, sleep, study))"
   ]
  },
  {
   "cell_type": "markdown",
   "metadata": {},
   "source": [
    "## Section 2: Activation Functions"
   ]
  },
  {
   "cell_type": "code",
   "execution_count": null,
   "metadata": {},
   "outputs": [],
   "source": [
    "# Apply the np.tanh function to the output of node_0_value and node_1_value\n",
    "\n",
    "# Calculate node 0 value: node_0_value\n",
    "node_0_value = _____\n",
    "# Calculate node 0 output applying the 'np.tanh' activation function to the node_0_value\n",
    "node_0_output = np.tanh(node_0_value)\n",
    "\n",
    "# Calculate node 1 value: node_1_value\n",
    "# Calculate node 1 output in the same way as node 0 output\n",
    "node_1_value = _____\n",
    "node_1_output = _____\n",
    "\n",
    "# Put node values into array (don't give an activation functions to the output)\n",
    "hidden_layer_outputs = _____\n",
    "\n",
    "# Calculate output: output\n",
    "tanh_output = _____\n",
    "\n",
    "# Print output\n",
    "print(output_str.format(\"tanh\", round(tanh_output), sleep, study))"
   ]
  },
  {
   "cell_type": "code",
   "execution_count": null,
   "metadata": {},
   "outputs": [],
   "source": [
    "def relu(input):\n",
    "    '''Define your relu activation function here'''\n",
    "    # Calculate the value for the output of the relu function: output\n",
    "    # The output should be 0 if input is less than 0 and the input otherwise\n",
    "    output = _____\n",
    "    \n",
    "    # Return the value just calculated\n",
    "    _____\n",
    "\n",
    "# Calculate node 0 value: node_0_output\n",
    "node_0_input = (input_data * weights['node_0']).sum()\n",
    "\n",
    "# Calculate node 0 output applying the 'relu' activation function to the node_0_value\n",
    "node_0_output = _____(node_0_input)\n",
    "\n",
    "# Calculate node 1 value: node_1_output\n",
    "node_1_input = _____\n",
    "\n",
    "# Apply the activation function to the node_1_input: node_1_output\n",
    "node_1_output = _____\n",
    "\n",
    "# Put node values into array: hidden_layer_outputs\n",
    "hidden_layer_outputs = _____\n",
    "\n",
    "# Calculate model output\n",
    "relu_output = _____\n",
    "\n",
    "# Print model output\n",
    "print(output_str.format(\"relu\", relu_output, sleep, study))"
   ]
  },
  {
   "cell_type": "markdown",
   "metadata": {},
   "source": [
    "## Section 3: Multiple Input Samples"
   ]
  },
  {
   "cell_type": "code",
   "execution_count": null,
   "metadata": {},
   "outputs": [],
   "source": [
    "# Setup: Make an array of [sleep, study = 5] input pairs for testing on model\n",
    "mutiple_sample_input_data = np.array([[sleep,5] for sleep in range(0, 20, 2)])"
   ]
  },
  {
   "cell_type": "code",
   "execution_count": null,
   "metadata": {},
   "outputs": [],
   "source": [
    "# Define predict_with_network()\n",
    "# Default argument for the activation_f is the identity function\n",
    "def predict_with_network(input_data_row, weights, activate_f = lambda x: x):\n",
    "\n",
    "    # Calculate node 0 value\n",
    "    node_0_input  = (input_data_row*weights[\"node_0\"]).sum()\n",
    "    node_0_output = activate_f(node_0_input)\n",
    "\n",
    "    # Calculate node 1 value\n",
    "    node_1_input  = (input_data_row*weights[\"node_1\"]).sum()\n",
    "    node_1_output = activate_f(node_1_input)\n",
    "\n",
    "    # Put node values into array: hidden_layer_outputs\n",
    "    hidden_layer_outputs = np.array([node_0_output, node_1_output])\n",
    "    \n",
    "    # Calculate model output\n",
    "    input_to_final_layer = (hidden_layer_outputs*weights[\"output\"]).sum()\n",
    "    model_output = (input_to_final_layer)\n",
    "    \n",
    "    # Return model output\n",
    "    return(model_output)\n",
    "\n",
    "\n",
    "# Print model output on multiple inputs with comparison activation functions\n",
    "outputs = []\n",
    "for input_data_row in mutiple_sample_input_data:\n",
    "    identity_output = predict_with_network(input_data_row, weights)\n",
    "    print(output_str.format(\"identity\", identity_output, input_data_row[0], input_data_row[1]))\n",
    "    relu_output = predict_with_network(input_data_row, weights, relu)\n",
    "    print(output_str.format(\"relu\", relu_output, input_data_row[0], input_data_row[1]))\n",
    "    tanh_output = predict_with_network(input_data_row, weights, np.tanh)\n",
    "    print(output_str.format(\"tanh\", round(tanh_output), input_data_row[0], input_data_row[1]))\n",
    "    outputs.append((identity_output, relu_output, tanh_output))"
   ]
  },
  {
   "cell_type": "code",
   "execution_count": null,
   "metadata": {},
   "outputs": [],
   "source": [
    "# See the output of your neural net with various activation functions applied\n",
    "plt.plot(range(0,20,2), [output[0] for output in outputs])\n",
    "plt.plot(range(0,20,2), [output[1] for output in outputs])\n",
    "plt.plot(range(0,20,2), [output[2] for output in outputs])\n",
    "\n",
    "plt.legend(['identity', 'relu', 'tanh'], loc='upper left')\n",
    "\n",
    "plt.show()"
   ]
  }
 ],
 "metadata": {
  "kernelspec": {
   "display_name": "Python 3",
   "language": "python",
   "name": "python3"
  },
  "language_info": {
   "codemirror_mode": {
    "name": "ipython",
    "version": 3
   },
   "file_extension": ".py",
   "mimetype": "text/x-python",
   "name": "python",
   "nbconvert_exporter": "python",
   "pygments_lexer": "ipython3",
   "version": "3.5.1"
  }
 },
 "nbformat": 4,
 "nbformat_minor": 2
}
