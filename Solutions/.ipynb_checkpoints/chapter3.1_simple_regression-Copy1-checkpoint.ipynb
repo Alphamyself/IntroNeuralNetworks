{
 "cells": [
  {
   "cell_type": "markdown",
   "metadata": {},
   "source": [
    "# Playground: Aproximating Functions with Keras"
   ]
  },
  {
   "cell_type": "markdown",
   "metadata": {},
   "source": [
    "### Regression with one explanatory variable\n",
    "  - learning rate (overfitting)\n",
    "  - layers\n",
    "  - nodes\n",
    "  - epochs\n",
    "  - batch size\n",
    "  - regularization\n",
    "  - optimizers"
   ]
  },
  {
   "cell_type": "code",
   "execution_count": 2,
   "metadata": {},
   "outputs": [
    {
     "name": "stderr",
     "output_type": "stream",
     "text": [
      "Using TensorFlow backend.\n"
     ]
    }
   ],
   "source": [
    "%matplotlib inline\n",
    "import keras\n",
    "from keras.layers import Dense\n",
    "from keras.models import Sequential\n",
    "import numpy as np\n",
    "import pandas as pd\n",
    "import matplotlib.pyplot as plt\n",
    "from scipy.stats import zscore"
   ]
  },
  {
   "cell_type": "markdown",
   "metadata": {},
   "source": [
    "### Return a Built and Compiled Model"
   ]
  },
  {
   "cell_type": "code",
   "execution_count": 38,
   "metadata": {},
   "outputs": [],
   "source": [
    "# Return a built and compiled model\n",
    "# n_cols: number of explanatory features you're planning to feed into the model\n",
    "# inside this function, you can adjust the number of layers, \n",
    "# ... nodes per layer, activation functions, optimizer type,\n",
    "def get_regression_model(n_cols):\n",
    "    # Set up a sequential (feed-forward) model\n",
    "    model = Sequential()\n",
    "\n",
    "    # Add a hidden layer. First layer must declare input shape being the number of features you're feeding into it\n",
    "    model.add(Dense(8, activation='tanh', input_shape=(n_cols,)))\n",
    "\n",
    "    # Add a hidden layer. Try different activation functions. Try different number of nodes.\n",
    "    model.add(Dense(4, activation='elu'))\n",
    "\n",
    "    # Add the output layer. Only 1 node for regression models. No activation function.\n",
    "    model.add(Dense(1))\n",
    "\n",
    "    # Use the SGD optimizer and mean_squared_error loss function\n",
    "    # ... try other optimizers like \"adam\" by setting optimizer=\"adam\"\n",
    "    # ... try other loss functions (https://keras.io/losses/)\n",
    "    SGD = keras.optimizers.sgd(lr=.03)\n",
    "    model.compile(optimizer=SGD, loss='mse', metrics=[\"mse\"])\n",
    "\n",
    "    # return the model built and compiled\n",
    "    return model"
   ]
  },
  {
   "cell_type": "markdown",
   "metadata": {},
   "source": [
    "### Generate Dummy Data"
   ]
  },
  {
   "cell_type": "code",
   "execution_count": 54,
   "metadata": {},
   "outputs": [
    {
     "data": {
      "text/plain": [
       "[<matplotlib.lines.Line2D at 0x1125f9cc0>]"
      ]
     },
     "execution_count": 54,
     "metadata": {},
     "output_type": "execute_result"
    },
    {
     "data": {
      "image/png": "[encoded data removed]",
      "text/plain": [
       "<matplotlib.figure.Figure at 0x110d44748>"
      ]
     },
     "metadata": {},
     "output_type": "display_data"
    }
   ],
   "source": [
    "# generate some fake input_data (n data points in range 1 to n with uniform distribution)\n",
    "n = 100\n",
    "input_data = np.random.uniform(low=0, high=n, size=n) #np.array(range(100)) + np.random.normal(loc=0, scale=3, size=n)\n",
    "\n",
    "# normalize the input_data by transforming each value to its respective zscore\n",
    "norm_data = zscore(input_data.transpose())\n",
    "\n",
    "# Choose the function for the underlying pattern of your data\n",
    "linear = norm_data\n",
    "parabolic = norm_data**2\n",
    "sin = np.sin(2*norm_data)\n",
    "discontinuous = np.array([i**2 if i > -1  and i < 1 else i*4 for i in norm_data])\n",
    "\n",
    "# Set targets to one of the previously defined functions or define your own\n",
    "targets = discontinuous\n",
    "\n",
    "# Add some noise (as all data has). Pick noise between 0-1\n",
    "noise = .2\n",
    "targets = targets.transpose() + np.random.normal(loc=0.0, scale=noise, size=n)\n",
    "\n",
    "# Reshape your data\n",
    "norm_data = np.array([[i] for i in norm_data])\n",
    "targets = np.array([[i] for i in targets])\n",
    "\n",
    "# Plot the function\n",
    "plt.plot(norm_data, targets, 'ro', markersize=2, color=\"orange\")"
   ]
  },
  {
   "cell_type": "markdown",
   "metadata": {},
   "source": [
    "### Build the Keras Neural Network Model"
   ]
  },
  {
   "cell_type": "markdown",
   "metadata": {},
   "source": [
    "### Fit the model"
   ]
  },
  {
   "cell_type": "code",
   "execution_count": 70,
   "metadata": {},
   "outputs": [
    {
     "data": {
      "image/png": "[encoded data removed]",
      "text/plain": [
       "<matplotlib.figure.Figure at 0x114e522e8>"
      ]
     },
     "metadata": {},
     "output_type": "display_data"
    }
   ],
   "source": [
    "model = get_regression_model(1)\n",
    "\n",
    "log = {\"mse\":[], \"val_loss\":[]}\n",
    "training_iterations = 30\n",
    "\n",
    "model.fit(norm_data, targets, epochs=0, validation_split=0.2, verbose=0)\n",
    "predictions = model.predict(norm_data)\n",
    "plt.plot(norm_data, predictions, alpha=.1, color=(0, 0.2, 0.5))\n",
    "\n",
    "for i in range(training_iterations):\n",
    "    history = model.fit(norm_data, targets, epochs=5, validation_split=0.2, batch_size=10, verbose=0)\n",
    "    predictions = model.predict(norm_data)\n",
    "    alpha = (i+1)/training_iterations\n",
    "    log[\"mse\"].extend(history.history['mean_squared_error'])\n",
    "    log[\"val_loss\"].extend(history.history['val_loss'])\n",
    "\n",
    "plt.plot(norm_data, targets, 'ro', markersize=2, color=\"orange\")\n",
    "plt.plot(norm_data, predictions, 'ro', markersize=2, alpha=alpha, color=(alpha, 0.2, 0.5))\n",
    "plt.show()"
   ]
  },
  {
   "cell_type": "markdown",
   "metadata": {},
   "source": [
    "### Access Model Performance"
   ]
  },
  {
   "cell_type": "code",
   "execution_count": 71,
   "metadata": {},
   "outputs": [
    {
     "data": {
      "image/png": "[encoded data removed]",
      "text/plain": [
       "<matplotlib.figure.Figure at 0x115245518>"
      ]
     },
     "metadata": {},
     "output_type": "display_data"
    },
    {
     "name": "stdout",
     "output_type": "stream",
     "text": [
      "Final Loss (MSE): 0.40042\n",
      "Final Accuracy (val_loss): 1.01727\n"
     ]
    }
   ],
   "source": [
    "plt.plot(log[\"val_loss\"])\n",
    "plt.plot(log[\"mse\"])\n",
    "plt.legend(['val_loss', 'mse'], loc='best')\n",
    "plt.show()\n",
    "print(\"Final Loss (MSE):\", round(log[\"mse\"][-1], 5))\n",
    "print(\"Final Accuracy (val_loss):\", round(log[\"val_loss\"][-1], 5))"
   ]
  },
  {
   "cell_type": "code",
   "execution_count": 40,
   "metadata": {},
   "outputs": [
    {
     "name": "stdout",
     "output_type": "stream",
     "text": [
      "Train on 80 samples, validate on 20 samples\n",
      "Epoch 1/300\n",
      "80/80 [==============================] - 0s - loss: 4.6199 - mean_squared_error: 4.6199 - val_loss: 16.1193 - val_mean_squared_error: 16.1193\n",
      "Epoch 2/300\n",
      "80/80 [==============================] - 0s - loss: 3.3221 - mean_squared_error: 3.3221 - val_loss: 16.7050 - val_mean_squared_error: 16.7050\n",
      "Epoch 3/300\n",
      "80/80 [==============================] - 0s - loss: 2.1399 - mean_squared_error: 2.1399 - val_loss: 15.7778 - val_mean_squared_error: 15.7778\n",
      "Epoch 4/300\n",
      "80/80 [==============================] - 0s - loss: 2.1439 - mean_squared_error: 2.1439 - val_loss: 22.5608 - val_mean_squared_error: 22.5608\n",
      "Epoch 5/300\n",
      "80/80 [==============================] - 0s - loss: 1.3807 - mean_squared_error: 1.3807 - val_loss: 22.2457 - val_mean_squared_error: 22.2457\n",
      "Epoch 6/300\n",
      "80/80 [==============================] - 0s - loss: 0.9719 - mean_squared_error: 0.9719 - val_loss: 21.8910 - val_mean_squared_error: 21.8910\n"
     ]
    },
    {
     "data": {
      "text/plain": [
       "<keras.callbacks.History at 0x1111d9128>"
      ]
     },
     "execution_count": 40,
     "metadata": {},
     "output_type": "execute_result"
    }
   ],
   "source": [
    "from keras.callbacks import EarlyStopping\n",
    "early_stopping = EarlyStopping(monitor='val_loss', patience=2)\n",
    "model = get_regression_model(1)\n",
    "model.fit(norm_data, targets, validation_split=0.2, batch_size=5, epochs = 300, callbacks=[early_stopping])"
   ]
  },
  {
   "cell_type": "code",
   "execution_count": null,
   "metadata": {
    "collapsed": true
   },
   "outputs": [],
   "source": []
  },
  {
   "cell_type": "code",
   "execution_count": null,
   "metadata": {
    "collapsed": true
   },
   "outputs": [],
   "source": []
  }
 ],
 "metadata": {
  "kernelspec": {
   "display_name": "Python 3",
   "language": "python",
   "name": "python3"
  },
  "language_info": {
   "codemirror_mode": {
    "name": "ipython",
    "version": 3
   },
   "file_extension": ".py",
   "mimetype": "text/x-python",
   "name": "python",
   "nbconvert_exporter": "python",
   "pygments_lexer": "ipython3",
   "version": "3.5.1"
  }
 },
 "nbformat": 4,
 "nbformat_minor": 2
}
