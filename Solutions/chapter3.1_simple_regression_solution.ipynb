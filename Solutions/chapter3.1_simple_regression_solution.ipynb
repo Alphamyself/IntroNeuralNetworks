{
 "cells": [
  {
   "cell_type": "markdown",
   "metadata": {},
   "source": [
    "# Playground: Regression with One Explanatory Variable"
   ]
  },
  {
   "cell_type": "markdown",
   "metadata": {},
   "source": [
    "The purpose of this notebook is to see how a neural network learns the underlying pattern in your data. Note that this application (one explanatory (x) variable to predict a (y) value) is simplified for educational purposes. Traditional nerual network datasets might have hundreds or thousands of predictors (x's) instead of just one to make a prediction.  \n",
    "This notebook should run with no errors all the way through. After you run all cells once and understand what is happening, try playing around with all the parameters:\n",
    "   - Add more noise to your data\n",
    "   - Add more layers... more nodes\n",
    "   - Change the activation functions in the layers\n",
    "   - Change the learning rate\n",
    "   - Change the epochs and the batch size"
   ]
  },
  {
   "cell_type": "markdown",
   "metadata": {},
   "source": [
    "Data\n",
    "  - regularization\n",
    "  - catching irregularities\n",
    "  - noise in the data  \n",
    "  \n",
    "Keras Model Building\n",
    "  - layers\n",
    "  - nodes\n",
    "  - activation functions\n",
    "Model Compiling\n",
    "  - learning rate\n",
    "  - loss functions  \n",
    "  \n",
    "Model Training\n",
    "  - epochs\n",
    "  - batch size\n",
    "  - overfitting"
   ]
  },
  {
   "cell_type": "code",
   "execution_count": 15,
   "metadata": {},
   "outputs": [],
   "source": [
    "%matplotlib inline\n",
    "import keras\n",
    "from keras.layers import Dense\n",
    "from keras.models import Sequential\n",
    "import numpy as np\n",
    "import pandas as pd\n",
    "import matplotlib.pyplot as plt\n",
    "from scipy.stats import zscore"
   ]
  },
  {
   "cell_type": "markdown",
   "metadata": {},
   "source": [
    "### Generate Dummy Data"
   ]
  },
  {
   "cell_type": "code",
   "execution_count": 16,
   "metadata": {},
   "outputs": [],
   "source": [
    "# (NOTE: don't worry about all the transposing. \n",
    "#  ... Different functions take different matrix shapes so we have to transpose the shape)\n",
    "# generate some fake input_data (n data points in range 1 to n with uniform distribution)\n",
    "num_datapoints = 100\n",
    "input_data = np.array(range(100)) + np.random.normal(loc=0, scale=3, size=num_datapoints)\n",
    "\n",
    "# normalize the input_data by transforming each value to its respective zscore\n",
    "# A zscore is thethe number of standard deviations from the mean a data point is.\n",
    "# neural networks work much better with these normalized values\n",
    "norm_data = zscore(input_data.transpose())"
   ]
  },
  {
   "cell_type": "code",
   "execution_count": 17,
   "metadata": {
    "collapsed": true
   },
   "outputs": [],
   "source": [
    "# Below are some math functions to make a dummy underlying pattern for the data\n",
    "# Use one of the following functions by setting 'targets=sin' or 'targets=parabolic'\n",
    "# You can also define your own math function\n",
    "# Sidenote: the Universal Aproximation Theorem says that \n",
    "# ... \"A one layer machine learning model can approximate any function\"!\n",
    "linear = norm_data\n",
    "parabolic = norm_data**2\n",
    "sin = np.sin(2*norm_data)\n",
    "discontinuous = np.array([0 if i > -1  and i < 1 else i*-4 for i in norm_data])\n",
    "\n",
    "# Set 'targets' to one of the previously defined functions\n",
    "targets = sin"
   ]
  },
  {
   "cell_type": "code",
   "execution_count": 18,
   "metadata": {},
   "outputs": [],
   "source": [
    "# Add some noise (as all data has). Pick noise values between 0-1\n",
    "noise = .5\n",
    "targets = targets.transpose() + np.random.normal(loc=0.0, scale=noise, size=num_datapoints)"
   ]
  },
  {
   "cell_type": "code",
   "execution_count": 19,
   "metadata": {},
   "outputs": [
    {
     "data": {
      "text/plain": [
       "[<matplotlib.lines.Line2D at 0x11c6f7240>]"
      ]
     },
     "execution_count": 19,
     "metadata": {},
     "output_type": "execute_result"
    },
    {
     "data": {
      "image/png": "[encoded data removed]",
      "text/plain": [
       "<matplotlib.figure.Figure at 0x11bfa7e10>"
      ]
     },
     "metadata": {},
     "output_type": "display_data"
    }
   ],
   "source": [
    "# Reshape your data to feed into the model\n",
    "norm_data = np.array([[i] for i in norm_data])\n",
    "targets = np.array([[i] for i in targets])\n",
    "\n",
    "# Plot the data\n",
    "plt.plot(norm_data, targets, 'ro', markersize=2, color=\"orange\")"
   ]
  },
  {
   "cell_type": "markdown",
   "metadata": {},
   "source": [
    "### Return a Built and Compiled Model"
   ]
  },
  {
   "cell_type": "code",
   "execution_count": 20,
   "metadata": {
    "collapsed": true
   },
   "outputs": [],
   "source": [
    "# Return a built and compiled model\n",
    "# n_cols: number of explanatory features you're planning to feed into the model\n",
    "# inside this function, you can adjust the number of layers, \n",
    "# ... nodes per layer, activation functions, optimizer type,\n",
    "def get_regression_model(n_cols):\n",
    "    # Set up a sequential (feed-forward) model\n",
    "    model = Sequential()\n",
    "\n",
    "    # Add a hidden layer. First layer must declare input shape being the number of features you're feeding into it\n",
    "    model.add(Dense(8, activation='tanh', input_shape=(n_cols,)))\n",
    "\n",
    "    # Add a hidden layer. Try different activation functions. Try different number of nodes.\n",
    "    model.add(Dense(4, activation='elu'))\n",
    "\n",
    "    # Add the output layer. Only 1 node for regression models. No activation function.\n",
    "    model.add(Dense(1))\n",
    "\n",
    "    # Use the SGD optimizer and mean_squared_error loss function\n",
    "    # ... try other optimizers like \"adam\" by setting optimizer=\"adam\"\n",
    "    # ... try other loss functions (https://keras.io/losses/)\n",
    "    SGD = keras.optimizers.sgd(lr=.03)\n",
    "    model.compile(optimizer=SGD, loss='mse', metrics=[\"mse\"])\n",
    "\n",
    "    # return the model built and compiled\n",
    "    return model"
   ]
  },
  {
   "cell_type": "markdown",
   "metadata": {},
   "source": [
    "### Build the Keras Neural Network Model"
   ]
  },
  {
   "cell_type": "markdown",
   "metadata": {},
   "source": [
    "### Fit the model"
   ]
  },
  {
   "cell_type": "code",
   "execution_count": 21,
   "metadata": {},
   "outputs": [
    {
     "data": {
      "image/png": "[encoded data removed]",
      "text/plain": [
       "<matplotlib.figure.Figure at 0x11c9825f8>"
      ]
     },
     "metadata": {},
     "output_type": "display_data"
    }
   ],
   "source": [
    "# get a new regression model: model\n",
    "model = get_regression_model(1)\n",
    "\n",
    "# start a lof of the mean squared error: log\n",
    "log = {\"mse\":[]}\n",
    "\n",
    "# set the number of rounds to train (each round will be multiple epochs)\n",
    "training_iterations = 10\n",
    "\n",
    "# fit your model once to see what the model guesses (in green) after one try through your data\n",
    "history = model.fit(norm_data, targets, epochs=1, verbose=0)\n",
    "log[\"mse\"].extend(history.history['mean_squared_error'])\n",
    "predictions = model.predict(norm_data)\n",
    "plt.plot(norm_data, predictions, alpha=.5, color=\"green\")\n",
    "plt.legend(['First Guess'], loc='best')\n",
    "\n",
    "\n",
    "# then run through your data 'training_iterations' more times\n",
    "for i in range(training_iterations):\n",
    "    # at each iteration, record the history of how your models performance\n",
    "    history = model.fit(norm_data, targets, epochs=5, batch_size=10, verbose=0)\n",
    "    \n",
    "    # save that history to a log for later use\n",
    "    log[\"mse\"].extend(history.history['mean_squared_error'])\n",
    "    \n",
    "    # have the model make predictions off of your normalized input data\n",
    "    predictions = model.predict(norm_data)\n",
    "    \n",
    "    # alpha is just a coefficient between 0-1 that will be used to set the color and opacity of the plot\n",
    "    alpha = (i+1)/training_iterations\n",
    "    \n",
    "    # add a plot to the figure of what your machine guessed for your input data after this iteration\n",
    "    # \"earlier\" guesses will be more faded while \"later\" guesses will be more vivid\n",
    "    plt.plot(norm_data, predictions, alpha=alpha, color=(alpha, 0.2, 0.5))\n",
    "\n",
    "# add the plot of the initial input data to the figure\n",
    "plt.plot(norm_data, targets, 'ro', markersize=2, color=\"orange\")\n",
    "# show the figure\n",
    "plt.show()"
   ]
  },
  {
   "cell_type": "markdown",
   "metadata": {},
   "source": [
    "### Access Model Performance"
   ]
  },
  {
   "cell_type": "code",
   "execution_count": 23,
   "metadata": {},
   "outputs": [
    {
     "data": {
      "image/png": "[encoded data removed]",
      "text/plain": [
       "<matplotlib.figure.Figure at 0x11cb65e80>"
      ]
     },
     "metadata": {},
     "output_type": "display_data"
    }
   ],
   "source": [
    "# now access how your model did on the training data after each iteration by graphing the 'Mean Squared Error'\n",
    "first_loss = round(log[\"mse\"][0], 5)\n",
    "final_loss = round(log[\"mse\"][-1], 5)\n",
    "plt.plot(log[\"mse\"])\n",
    "plt.annotate(first_loss,(0,log[\"mse\"][0]))\n",
    "plt.annotate(final_loss,(num_datapoints,log[\"mse\"][-1]))\n",
    "plt.legend(['Mean Squared Error'], loc='best')\n",
    "plt.show()"
   ]
  },
  {
   "cell_type": "code",
   "execution_count": null,
   "metadata": {
    "collapsed": true
   },
   "outputs": [],
   "source": []
  },
  {
   "cell_type": "code",
   "execution_count": null,
   "metadata": {
    "collapsed": true
   },
   "outputs": [],
   "source": []
  }
 ],
 "metadata": {
  "kernelspec": {
   "display_name": "Python 3",
   "language": "python",
   "name": "python3"
  },
  "language_info": {
   "codemirror_mode": {
    "name": "ipython",
    "version": 3
   },
   "file_extension": ".py",
   "mimetype": "text/x-python",
   "name": "python",
   "nbconvert_exporter": "python",
   "pygments_lexer": "ipython3",
   "version": "3.5.1"
  }
 },
 "nbformat": 4,
 "nbformat_minor": 2
}
