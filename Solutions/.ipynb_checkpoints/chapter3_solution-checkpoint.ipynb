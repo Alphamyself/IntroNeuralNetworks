{
 "cells": [
  {
   "cell_type": "markdown",
   "metadata": {},
   "source": [
    "# Chapter 3: Building Models with Keras"
   ]
  },
  {
   "cell_type": "code",
   "execution_count": 38,
   "metadata": {
    "collapsed": true
   },
   "outputs": [],
   "source": [
    "import keras\n",
    "from keras.layers import Dense\n",
    "from keras.models import Sequential"
   ]
  },
  {
   "cell_type": "markdown",
   "metadata": {},
   "source": [
    "$$ P(A \\mid B) = \\frac{P(B \\mid A) \\, P(A)}{P(B)} $$"
   ]
  },
  {
   "cell_type": "code",
   "execution_count": 39,
   "metadata": {},
   "outputs": [
    {
     "name": "stdout",
     "output_type": "stream",
     "text": [
      "Targets\n",
      " [[ 1.  0.]\n",
      " [ 0.  1.]\n",
      " [ 0.  1.]\n",
      " ..., \n",
      " [ 1.  0.]\n",
      " [ 0.  1.]\n",
      " [ 1.  0.]]\n",
      "Targets and predictors from titantic data set loaded successfully.\n"
     ]
    }
   ],
   "source": [
    "%run data_wrangling_with_pandas.ipynb"
   ]
  },
  {
   "cell_type": "markdown",
   "metadata": {},
   "source": [
    "## Build Your First Classifier Model Using Keras!"
   ]
  },
  {
   "cell_type": "code",
   "execution_count": 40,
   "metadata": {},
   "outputs": [],
   "source": [
    "# Save the number of columns in predictors: n_cols\n",
    "n_cols = predictors.shape[1]\n",
    "\n",
    "# Set up the model: model\n",
    "model = Sequential()\n",
    "\n",
    "# Add a hidden layer\n",
    "model.add(Dense(n_cols, activation='relu', input_shape=(n_cols,)))\n",
    "\n",
    "# Add another hidden layer\n",
    "model.add(Dense(n_cols, activation='sigmoid'))\n",
    "\n",
    "# Add the output layer\n",
    "model.add(Dense(2, activation='softmax'))"
   ]
  },
  {
   "cell_type": "code",
   "execution_count": 41,
   "metadata": {},
   "outputs": [
    {
     "name": "stdout",
     "output_type": "stream",
     "text": [
      "Loss function: categorical_crossentropy\n"
     ]
    }
   ],
   "source": [
    "# Compile the model\n",
    "model.compile(optimizer=\"adam\", loss=\"categorical_crossentropy\", metrics=['accuracy'])\n",
    "\n",
    "# Verify that model contains information from compiling\n",
    "print(\"Loss function: \" + model.loss)"
   ]
  },
  {
   "cell_type": "code",
   "execution_count": 42,
   "metadata": {},
   "outputs": [
    {
     "name": "stdout",
     "output_type": "stream",
     "text": [
      "Epoch 1/10\n",
      "891/891 [==============================] - 0s - loss: 0.6859 - acc: 0.6162     \n",
      "Epoch 2/10\n",
      "891/891 [==============================] - 0s - loss: 0.6424 - acc: 0.6308     \n",
      "Epoch 3/10\n",
      "891/891 [==============================] - 0s - loss: 0.6198 - acc: 0.6644     \n",
      "Epoch 4/10\n",
      "891/891 [==============================] - 0s - loss: 0.6054 - acc: 0.6723     \n",
      "Epoch 5/10\n",
      "891/891 [==============================] - 0s - loss: 0.5990 - acc: 0.6846     \n",
      "Epoch 6/10\n",
      "891/891 [==============================] - 0s - loss: 0.5965 - acc: 0.6880     \n",
      "Epoch 7/10\n",
      "891/891 [==============================] - 0s - loss: 0.5930 - acc: 0.6869     \n",
      "Epoch 8/10\n",
      "891/891 [==============================] - 0s - loss: 0.5906 - acc: 0.6902     \n",
      "Epoch 9/10\n",
      "891/891 [==============================] - 0s - loss: 0.5884 - acc: 0.6970     \n",
      "Epoch 10/10\n",
      "891/891 [==============================] - 0s - loss: 0.5859 - acc: 0.6936     \n"
     ]
    },
    {
     "data": {
      "text/plain": [
       "<keras.callbacks.History at 0x118fc8b70>"
      ]
     },
     "execution_count": 42,
     "metadata": {},
     "output_type": "execute_result"
    }
   ],
   "source": [
    "# Fit the model\n",
    "model.fit(predictors, targets)"
   ]
  },
  {
   "cell_type": "code",
   "execution_count": 43,
   "metadata": {},
   "outputs": [
    {
     "name": "stdout",
     "output_type": "stream",
     "text": [
      "[ 0.66637444]\n"
     ]
    }
   ],
   "source": [
    "# Predict with the Model\n",
    "\n",
    "# Make a fake person (out-of-data sample) to predict the odds of survival\n",
    "new_data = {'Age' : [10], 'SibSp' : [2], 'Parch' : [2], 'Fare' : [500],\n",
    "            'Sex_female' : [1], 'Sex_male' : [0],\n",
    "            'Pclass_1' : [0], 'Pclass_2' : [1], 'Pclass_3' : [0],\n",
    "            'Embarked_C' : [0], 'Embarked_Q' : [0], 'Embarked_S' : [1]}\n",
    "df = pd.DataFrame(data=new_data)\n",
    "pred_data = df.as_matrix()\n",
    "\n",
    "# Calculate predictions: predictions\n",
    "predictions = model.predict(pred_data)\n",
    "\n",
    "# Calculate predicted probability of survival: predicted_prob_true\n",
    "predicted_prob_true = predictions[:,1]\n",
    "\n",
    "# print predicted_prob_true\n",
    "print(predicted_prob_true)"
   ]
  },
  {
   "cell_type": "code",
   "execution_count": 44,
   "metadata": {},
   "outputs": [
    {
     "name": "stdout",
     "output_type": "stream",
     "text": [
      "Train on 623 samples, validate on 268 samples\n",
      "Epoch 1/10\n",
      "623/623 [==============================] - 0s - loss: 0.5995 - acc: 0.6934 - val_loss: 0.5367 - val_acc: 0.7313\n",
      "Epoch 2/10\n",
      "623/623 [==============================] - 0s - loss: 0.5963 - acc: 0.6854 - val_loss: 0.5391 - val_acc: 0.7239\n",
      "Epoch 3/10\n",
      "623/623 [==============================] - 0s - loss: 0.5939 - acc: 0.6854 - val_loss: 0.5374 - val_acc: 0.7276\n",
      "Epoch 4/10\n",
      "623/623 [==============================] - 0s - loss: 0.5910 - acc: 0.6854 - val_loss: 0.5356 - val_acc: 0.7239\n",
      "Epoch 5/10\n",
      "623/623 [==============================] - 0s - loss: 0.5880 - acc: 0.6918 - val_loss: 0.5304 - val_acc: 0.7313\n",
      "Epoch 6/10\n",
      "623/623 [==============================] - 0s - loss: 0.5851 - acc: 0.6918 - val_loss: 0.5311 - val_acc: 0.7239\n",
      "Epoch 7/10\n",
      "623/623 [==============================] - 0s - loss: 0.5812 - acc: 0.6966 - val_loss: 0.5252 - val_acc: 0.7351\n",
      "Epoch 8/10\n",
      "623/623 [==============================] - 0s - loss: 0.5793 - acc: 0.6934 - val_loss: 0.5259 - val_acc: 0.7127\n",
      "Epoch 9/10\n",
      "623/623 [==============================] - 0s - loss: 0.5743 - acc: 0.6998 - val_loss: 0.5176 - val_acc: 0.7313\n",
      "Epoch 10/10\n",
      "623/623 [==============================] - 0s - loss: 0.5708 - acc: 0.7079 - val_loss: 0.5174 - val_acc: 0.7127\n"
     ]
    }
   ],
   "source": [
    "# Test the Model\n",
    "\n",
    "hist = model.fit(predictors, targets, validation_split=.3)"
   ]
  },
  {
   "cell_type": "code",
   "execution_count": null,
   "metadata": {
    "collapsed": true
   },
   "outputs": [],
   "source": []
  }
 ],
 "metadata": {
  "kernelspec": {
   "display_name": "Python 3",
   "language": "python",
   "name": "python3"
  },
  "language_info": {
   "codemirror_mode": {
    "name": "ipython",
    "version": 3
   },
   "file_extension": ".py",
   "mimetype": "text/x-python",
   "name": "python",
   "nbconvert_exporter": "python",
   "pygments_lexer": "ipython3",
   "version": "3.5.1"
  }
 },
 "nbformat": 4,
 "nbformat_minor": 2
}
