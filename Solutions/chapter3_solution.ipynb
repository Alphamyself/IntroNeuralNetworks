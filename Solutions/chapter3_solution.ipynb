{
 "cells": [
  {
   "cell_type": "markdown",
   "metadata": {},
   "source": [
    "# Chapter 3: Building Models with Keras"
   ]
  },
  {
   "cell_type": "code",
   "execution_count": 22,
   "metadata": {},
   "outputs": [],
   "source": [
    "%matplotlib inline\n",
    "import keras\n",
    "from keras.layers import Dense\n",
    "from keras.models import Sequential\n",
    "import numpy as np\n",
    "import pandas as pd\n",
    "import matplotlib.pyplot as plt\n",
    "from scipy.stats import zscore"
   ]
  },
  {
   "cell_type": "markdown",
   "metadata": {},
   "source": [
    "## Data Wrangle the Boston House Price Dataset"
   ]
  },
  {
   "cell_type": "code",
   "execution_count": 35,
   "metadata": {},
   "outputs": [
    {
     "data": {
      "text/html": [
       "<div>\n",
       "<style scoped>\n",
       "    .dataframe tbody tr th:only-of-type {\n",
       "        vertical-align: middle;\n",
       "    }\n",
       "\n",
       "    .dataframe tbody tr th {\n",
       "        vertical-align: top;\n",
       "    }\n",
       "\n",
       "    .dataframe thead th {\n",
       "        text-align: right;\n",
       "    }\n",
       "</style>\n",
       "<table border=\"1\" class=\"dataframe\">\n",
       "  <thead>\n",
       "    <tr style=\"text-align: right;\">\n",
       "      <th></th>\n",
       "      <th>CRIM</th>\n",
       "      <th>ZN</th>\n",
       "      <th>INDUS</th>\n",
       "      <th>CHAS</th>\n",
       "      <th>NOX</th>\n",
       "      <th>RM</th>\n",
       "      <th>AGE</th>\n",
       "      <th>DIS</th>\n",
       "      <th>RAD</th>\n",
       "      <th>TAX</th>\n",
       "      <th>PTRATIO</th>\n",
       "      <th>B</th>\n",
       "      <th>LSTAT</th>\n",
       "      <th>MEDV</th>\n",
       "    </tr>\n",
       "  </thead>\n",
       "  <tbody>\n",
       "    <tr>\n",
       "      <th>count</th>\n",
       "      <td>506.000000</td>\n",
       "      <td>506.000000</td>\n",
       "      <td>506.000000</td>\n",
       "      <td>506.000000</td>\n",
       "      <td>506.000000</td>\n",
       "      <td>506.000000</td>\n",
       "      <td>506.000000</td>\n",
       "      <td>506.000000</td>\n",
       "      <td>506.000000</td>\n",
       "      <td>506.000000</td>\n",
       "      <td>506.000000</td>\n",
       "      <td>506.000000</td>\n",
       "      <td>506.000000</td>\n",
       "      <td>506.000000</td>\n",
       "    </tr>\n",
       "    <tr>\n",
       "      <th>mean</th>\n",
       "      <td>3.613524</td>\n",
       "      <td>11.363636</td>\n",
       "      <td>11.136779</td>\n",
       "      <td>0.069170</td>\n",
       "      <td>0.554695</td>\n",
       "      <td>6.284634</td>\n",
       "      <td>68.574901</td>\n",
       "      <td>3.795043</td>\n",
       "      <td>9.549407</td>\n",
       "      <td>408.237154</td>\n",
       "      <td>18.455534</td>\n",
       "      <td>356.674032</td>\n",
       "      <td>12.653063</td>\n",
       "      <td>22.532806</td>\n",
       "    </tr>\n",
       "    <tr>\n",
       "      <th>std</th>\n",
       "      <td>8.601545</td>\n",
       "      <td>23.322453</td>\n",
       "      <td>6.860353</td>\n",
       "      <td>0.253994</td>\n",
       "      <td>0.115878</td>\n",
       "      <td>0.702617</td>\n",
       "      <td>28.148861</td>\n",
       "      <td>2.105710</td>\n",
       "      <td>8.707259</td>\n",
       "      <td>168.537116</td>\n",
       "      <td>2.164946</td>\n",
       "      <td>91.294864</td>\n",
       "      <td>7.141062</td>\n",
       "      <td>9.197104</td>\n",
       "    </tr>\n",
       "    <tr>\n",
       "      <th>min</th>\n",
       "      <td>0.006320</td>\n",
       "      <td>0.000000</td>\n",
       "      <td>0.460000</td>\n",
       "      <td>0.000000</td>\n",
       "      <td>0.385000</td>\n",
       "      <td>3.561000</td>\n",
       "      <td>2.900000</td>\n",
       "      <td>1.129600</td>\n",
       "      <td>1.000000</td>\n",
       "      <td>187.000000</td>\n",
       "      <td>12.600000</td>\n",
       "      <td>0.320000</td>\n",
       "      <td>1.730000</td>\n",
       "      <td>5.000000</td>\n",
       "    </tr>\n",
       "    <tr>\n",
       "      <th>25%</th>\n",
       "      <td>0.082045</td>\n",
       "      <td>0.000000</td>\n",
       "      <td>5.190000</td>\n",
       "      <td>0.000000</td>\n",
       "      <td>0.449000</td>\n",
       "      <td>5.885500</td>\n",
       "      <td>45.025000</td>\n",
       "      <td>2.100175</td>\n",
       "      <td>4.000000</td>\n",
       "      <td>279.000000</td>\n",
       "      <td>17.400000</td>\n",
       "      <td>375.377500</td>\n",
       "      <td>6.950000</td>\n",
       "      <td>17.025000</td>\n",
       "    </tr>\n",
       "    <tr>\n",
       "      <th>50%</th>\n",
       "      <td>0.256510</td>\n",
       "      <td>0.000000</td>\n",
       "      <td>9.690000</td>\n",
       "      <td>0.000000</td>\n",
       "      <td>0.538000</td>\n",
       "      <td>6.208500</td>\n",
       "      <td>77.500000</td>\n",
       "      <td>3.207450</td>\n",
       "      <td>5.000000</td>\n",
       "      <td>330.000000</td>\n",
       "      <td>19.050000</td>\n",
       "      <td>391.440000</td>\n",
       "      <td>11.360000</td>\n",
       "      <td>21.200000</td>\n",
       "    </tr>\n",
       "    <tr>\n",
       "      <th>75%</th>\n",
       "      <td>3.677082</td>\n",
       "      <td>12.500000</td>\n",
       "      <td>18.100000</td>\n",
       "      <td>0.000000</td>\n",
       "      <td>0.624000</td>\n",
       "      <td>6.623500</td>\n",
       "      <td>94.075000</td>\n",
       "      <td>5.188425</td>\n",
       "      <td>24.000000</td>\n",
       "      <td>666.000000</td>\n",
       "      <td>20.200000</td>\n",
       "      <td>396.225000</td>\n",
       "      <td>16.955000</td>\n",
       "      <td>25.000000</td>\n",
       "    </tr>\n",
       "    <tr>\n",
       "      <th>max</th>\n",
       "      <td>88.976200</td>\n",
       "      <td>100.000000</td>\n",
       "      <td>27.740000</td>\n",
       "      <td>1.000000</td>\n",
       "      <td>0.871000</td>\n",
       "      <td>8.780000</td>\n",
       "      <td>100.000000</td>\n",
       "      <td>12.126500</td>\n",
       "      <td>24.000000</td>\n",
       "      <td>711.000000</td>\n",
       "      <td>22.000000</td>\n",
       "      <td>396.900000</td>\n",
       "      <td>37.970000</td>\n",
       "      <td>50.000000</td>\n",
       "    </tr>\n",
       "  </tbody>\n",
       "</table>\n",
       "</div>"
      ],
      "text/plain": [
       "             CRIM          ZN       INDUS        CHAS         NOX          RM  \\\n",
       "count  506.000000  506.000000  506.000000  506.000000  506.000000  506.000000   \n",
       "mean     3.613524   11.363636   11.136779    0.069170    0.554695    6.284634   \n",
       "std      8.601545   23.322453    6.860353    0.253994    0.115878    0.702617   \n",
       "min      0.006320    0.000000    0.460000    0.000000    0.385000    3.561000   \n",
       "25%      0.082045    0.000000    5.190000    0.000000    0.449000    5.885500   \n",
       "50%      0.256510    0.000000    9.690000    0.000000    0.538000    6.208500   \n",
       "75%      3.677082   12.500000   18.100000    0.000000    0.624000    6.623500   \n",
       "max     88.976200  100.000000   27.740000    1.000000    0.871000    8.780000   \n",
       "\n",
       "              AGE         DIS         RAD         TAX     PTRATIO           B  \\\n",
       "count  506.000000  506.000000  506.000000  506.000000  506.000000  506.000000   \n",
       "mean    68.574901    3.795043    9.549407  408.237154   18.455534  356.674032   \n",
       "std     28.148861    2.105710    8.707259  168.537116    2.164946   91.294864   \n",
       "min      2.900000    1.129600    1.000000  187.000000   12.600000    0.320000   \n",
       "25%     45.025000    2.100175    4.000000  279.000000   17.400000  375.377500   \n",
       "50%     77.500000    3.207450    5.000000  330.000000   19.050000  391.440000   \n",
       "75%     94.075000    5.188425   24.000000  666.000000   20.200000  396.225000   \n",
       "max    100.000000   12.126500   24.000000  711.000000   22.000000  396.900000   \n",
       "\n",
       "            LSTAT        MEDV  \n",
       "count  506.000000  506.000000  \n",
       "mean    12.653063   22.532806  \n",
       "std      7.141062    9.197104  \n",
       "min      1.730000    5.000000  \n",
       "25%      6.950000   17.025000  \n",
       "50%     11.360000   21.200000  \n",
       "75%     16.955000   25.000000  \n",
       "max     37.970000   50.000000  "
      ]
     },
     "execution_count": 35,
     "metadata": {},
     "output_type": "execute_result"
    }
   ],
   "source": [
    "# For info on the dataset: https://www.cs.toronto.edu/~delve/data/boston/bostonDetail.html\n",
    "dataset_url = \"https://archive.ics.uci.edu/ml/machine-learning-databases/housing/housing.data\"\n",
    "colnames = ['CRIM', 'ZN', 'INDUS', 'CHAS', 'NOX', 'RM', 'AGE', 'DIS', 'RAD', 'TAX', 'PTRATIO', 'B', 'LSTAT', 'MEDV']\n",
    "dataframe = pd.read_csv(dataset_url, delim_whitespace=True, names=colnames)\n",
    "\n",
    "# Get a gist of your data\n",
    "dataframe.describe()"
   ]
  },
  {
   "cell_type": "code",
   "execution_count": 36,
   "metadata": {},
   "outputs": [
    {
     "data": {
      "text/plain": [
       "Index(['CRIM', 'ZN', 'INDUS', 'NOX', 'RM', 'AGE', 'DIS', 'RAD', 'TAX',\n",
       "       'PTRATIO', 'B', 'LSTAT', 'MEDV', 'CHAS_0', 'CHAS_1'],\n",
       "      dtype='object')"
      ]
     },
     "execution_count": 36,
     "metadata": {},
     "output_type": "execute_result"
    }
   ],
   "source": [
    "# Note that there is one catagorical variable (CHAS)\n",
    "# Apply one hot encoding (also called dummy variables)\n",
    "dataframe = pd.get_dummies(dataframe, columns=[\"CHAS\"])\n",
    "\n",
    "# Print the new columns\n",
    "dataframe.columns"
   ]
  },
  {
   "cell_type": "code",
   "execution_count": 37,
   "metadata": {},
   "outputs": [],
   "source": [
    "# Set the target values as the median value of houses\n",
    "# Set all other variables as the explanatory variables\n",
    "# Use the zscore to standardize the numerical variables\n",
    "targets = zscore(dataframe.MEDV)\n",
    "predictors = zscore(dataframe.drop(\"MEDV\", axis=1).as_matrix())"
   ]
  },
  {
   "cell_type": "markdown",
   "metadata": {},
   "source": [
    "## Build Your First (Regression) Model with Keras!"
   ]
  },
  {
   "cell_type": "markdown",
   "metadata": {},
   "source": [
    "#### Set up the Architecture"
   ]
  },
  {
   "cell_type": "code",
   "execution_count": 71,
   "metadata": {},
   "outputs": [],
   "source": [
    "# Set the number of columns: n_cols\n",
    "n_cols = predictors.shape[1]\n",
    "\n",
    "# Set up the model: model\n",
    "model = Sequential()\n",
    "\n",
    "# Add a hidden layer\n",
    "model.add(Dense(n_cols, activation='relu', input_shape=(n_cols,)))\n",
    "\n",
    "# Add the output layer\n",
    "model.add(Dense(1, input_shape=(n_cols,)))"
   ]
  },
  {
   "cell_type": "markdown",
   "metadata": {},
   "source": [
    "#### Compile the model"
   ]
  },
  {
   "cell_type": "code",
   "execution_count": 72,
   "metadata": {
    "collapsed": true
   },
   "outputs": [],
   "source": [
    "# Use the adam optimizer and mean_squared_error loss function\n",
    "model.compile(optimizer=\"sgd\", loss='mse', metrics=[\"mse\"])"
   ]
  },
  {
   "cell_type": "code",
   "execution_count": 40,
   "metadata": {},
   "outputs": [
    {
     "name": "stdout",
     "output_type": "stream",
     "text": [
      "[array([[ 0.10748732, -0.4103258 , -0.35353136, -0.10338315, -0.04227152,\n",
      "        -0.33812466,  0.45260876, -0.24231431,  0.14492548,  0.36173201,\n",
      "        -0.13239878,  0.05448776, -0.31418663,  0.09701127],\n",
      "       [ 0.12785769, -0.08761874, -0.25698841,  0.40717524,  0.37662578,\n",
      "         0.15171808, -0.09776264, -0.18161049,  0.37909871,  0.43354422,\n",
      "        -0.37534064, -0.08759943, -0.26521036, -0.11437762],\n",
      "       [-0.00647917,  0.23992038, -0.12339887,  0.09868753,  0.01935086,\n",
      "         0.21383977,  0.38301903,  0.24889404,  0.16130936, -0.2878263 ,\n",
      "         0.11055815, -0.3178336 ,  0.29219192,  0.25833684],\n",
      "       [ 0.14428616, -0.00476727, -0.35977668,  0.03134218, -0.43260026,\n",
      "        -0.19108379, -0.30222392, -0.04084095, -0.16844124,  0.45837379,\n",
      "         0.03463176,  0.35747355,  0.14013755, -0.44316927],\n",
      "       [ 0.03651151, -0.42515051, -0.25276423,  0.40929317,  0.16412538,\n",
      "        -0.05869791,  0.14166659,  0.13677561,  0.35512882, -0.02195773,\n",
      "         0.28623998,  0.33085418,  0.32863593, -0.34573996],\n",
      "       [ 0.11532676, -0.02310222, -0.10847887,  0.39996082, -0.25141257,\n",
      "        -0.2336181 , -0.20693746, -0.13626704, -0.10077024,  0.16547954,\n",
      "        -0.0903053 ,  0.2565378 ,  0.21248901, -0.0168494 ],\n",
      "       [-0.21941759, -0.11626655,  0.09134483,  0.13508433,  0.06004131,\n",
      "         0.10199696,  0.24504942,  0.35438216,  0.25443554, -0.35699379,\n",
      "         0.06760436, -0.43956757,  0.02551252, -0.14396498],\n",
      "       [ 0.44259703, -0.05610594, -0.37558311,  0.14802867, -0.08040652,\n",
      "         0.17559218,  0.13292038,  0.16475797,  0.0792191 ,  0.40157163,\n",
      "         0.13606679, -0.34093767,  0.42188233,  0.42746776],\n",
      "       [ 0.11043555,  0.29528672,  0.0537495 , -0.24641684, -0.24263084,\n",
      "         0.23128372,  0.27433753, -0.1178439 ,  0.02941781, -0.03577062,\n",
      "         0.39628607, -0.42702278, -0.1023638 ,  0.34650344],\n",
      "       [-0.29394457,  0.21522111,  0.34994853,  0.04066777, -0.22854422,\n",
      "         0.01121166,  0.15218824, -0.4380624 , -0.20074713,  0.02240482,\n",
      "        -0.27746555,  0.29348665,  0.28080279,  0.06532019],\n",
      "       [ 0.02902016,  0.18085426, -0.40406725,  0.43198383,  0.35359436,\n",
      "        -0.41651535, -0.37683842,  0.41903168,  0.37755269,  0.2613216 ,\n",
      "         0.36565137,  0.19096029,  0.39123714,  0.13120884],\n",
      "       [-0.18095282, -0.15600517,  0.12999946, -0.23525704, -0.34561467,\n",
      "         0.40978795,  0.10798997, -0.11536551, -0.02582872, -0.36362535,\n",
      "        -0.46072194, -0.22704181,  0.32951093, -0.18345505],\n",
      "       [ 0.25171918, -0.41588604, -0.24270633,  0.40483052,  0.13993526,\n",
      "        -0.17378408,  0.29600698, -0.03202391, -0.43654495, -0.14787933,\n",
      "         0.35304886,  0.27479303,  0.14213806,  0.23131043],\n",
      "       [ 0.22277594, -0.31720352,  0.43100512, -0.2696048 ,  0.44559079,\n",
      "         0.22559965, -0.16864255,  0.40407962,  0.07853276,  0.08128375,\n",
      "         0.23169881, -0.27359411,  0.12133998,  0.29147112]], dtype=float32), array([ 0.,  0.,  0.,  0.,  0.,  0.,  0.,  0.,  0.,  0.,  0.,  0.,  0.,  0.], dtype=float32)]\n",
      "[array([[ 0.29712582],\n",
      "       [-0.26998496],\n",
      "       [-0.37229478],\n",
      "       [-0.31455839],\n",
      "       [ 0.54320747],\n",
      "       [ 0.05414265],\n",
      "       [ 0.59978515],\n",
      "       [-0.12842393],\n",
      "       [ 0.58726686],\n",
      "       [-0.02592003],\n",
      "       [ 0.23243648],\n",
      "       [ 0.24635178],\n",
      "       [ 0.03828973],\n",
      "       [-0.11584949]], dtype=float32), array([ 0.], dtype=float32)]\n"
     ]
    }
   ],
   "source": []
  },
  {
   "cell_type": "code",
   "execution_count": 73,
   "metadata": {},
   "outputs": [
    {
     "name": "stdout",
     "output_type": "stream",
     "text": [
      "Epoch 1/10\n",
      "506/506 [==============================] - 0s - loss: 1.5789 - mean_squared_error: 1.5789     \n",
      "Epoch 2/10\n",
      "506/506 [==============================] - 0s - loss: 0.6596 - mean_squared_error: 0.6596     \n",
      "Epoch 3/10\n",
      "506/506 [==============================] - 0s - loss: 0.4431 - mean_squared_error: 0.4431     \n",
      "Epoch 4/10\n",
      "506/506 [==============================] - 0s - loss: 0.3568 - mean_squared_error: 0.3568     \n",
      "Epoch 5/10\n",
      "506/506 [==============================] - 0s - loss: 0.3106 - mean_squared_error: 0.3106     \n",
      "Epoch 6/10\n",
      "506/506 [==============================] - 0s - loss: 0.2798 - mean_squared_error: 0.2798     \n",
      "Epoch 7/10\n",
      "506/506 [==============================] - 0s - loss: 0.2584 - mean_squared_error: 0.2584     \n",
      "Epoch 8/10\n",
      "506/506 [==============================] - 0s - loss: 0.2435 - mean_squared_error: 0.2435     \n",
      "Epoch 9/10\n",
      "506/506 [==============================] - 0s - loss: 0.2329 - mean_squared_error: 0.2329     \n",
      "Epoch 10/10\n",
      "506/506 [==============================] - 0s - loss: 0.2249 - mean_squared_error: 0.2249     \n"
     ]
    }
   ],
   "source": [
    "# Fit the model\n",
    "history = model.fit(predictors, targets, epochs=10)"
   ]
  },
  {
   "cell_type": "code",
   "execution_count": 74,
   "metadata": {},
   "outputs": [
    {
     "data": {
      "text/plain": [
       "[<matplotlib.lines.Line2D at 0x11dfafd68>]"
      ]
     },
     "execution_count": 74,
     "metadata": {},
     "output_type": "execute_result"
    },
    {
     "data": {
      "image/png": "[encoded data removed]",
      "text/plain": [
       "<matplotlib.figure.Figure at 0x11de8b390>"
      ]
     },
     "metadata": {},
     "output_type": "display_data"
    }
   ],
   "source": [
    "plt.plot(history.history['mean_squared_error'])"
   ]
  },
  {
   "cell_type": "markdown",
   "metadata": {
    "collapsed": true
   },
   "source": [
    "## Build Your First (Classification) Model with Keras!"
   ]
  },
  {
   "cell_type": "code",
   "execution_count": 81,
   "metadata": {},
   "outputs": [
    {
     "name": "stdout",
     "output_type": "stream",
     "text": [
      "Targets\n",
      " [[ 1.  0.]\n",
      " [ 0.  1.]\n",
      " [ 0.  1.]\n",
      " ..., \n",
      " [ 1.  0.]\n",
      " [ 0.  1.]\n",
      " [ 1.  0.]]\n",
      "Targets and predictors from titantic data set loaded successfully.\n"
     ]
    }
   ],
   "source": [
    "# Do all the data wrangling on the backend\n",
    "%run data_wrangling_titantic.ipynb"
   ]
  },
  {
   "cell_type": "code",
   "execution_count": 82,
   "metadata": {
    "collapsed": true
   },
   "outputs": [],
   "source": [
    "# Save the number of columns in predictors: n_cols\n",
    "n_cols = predictors.shape[1]\n",
    "\n",
    "# Set up the model: model\n",
    "model = Sequential()\n",
    "\n",
    "# Add a hidden layer\n",
    "model.add(Dense(n_cols, activation='sigmoid', input_shape=(n_cols,)))\n",
    "\n",
    "# Add another hidden layer\n",
    "model.add(Dense(n_cols, activation='sigmoid'))\n",
    "\n",
    "# Add the output layer\n",
    "# Notice a softmax activation on the output\n",
    "model.add(Dense(2, activation='softmax'))"
   ]
  },
  {
   "cell_type": "code",
   "execution_count": 83,
   "metadata": {},
   "outputs": [
    {
     "name": "stdout",
     "output_type": "stream",
     "text": [
      "Loss function: categorical_crossentropy\n"
     ]
    }
   ],
   "source": [
    "# Compile the model\n",
    "model.compile(optimizer=\"adam\", loss=\"categorical_crossentropy\", metrics=['accuracy'])\n",
    "\n",
    "# Verify that model contains information from compiling\n",
    "print(\"Loss function: \" + model.loss)"
   ]
  },
  {
   "cell_type": "code",
   "execution_count": 84,
   "metadata": {},
   "outputs": [
    {
     "name": "stdout",
     "output_type": "stream",
     "text": [
      "Epoch 1/10\n",
      "891/891 [==============================] - 0s - loss: 0.7535 - acc: 0.3760     \n",
      "Epoch 2/10\n",
      "891/891 [==============================] - 0s - loss: 0.6919 - acc: 0.5354     \n",
      "Epoch 3/10\n",
      "891/891 [==============================] - 0s - loss: 0.6692 - acc: 0.6162     \n",
      "Epoch 4/10\n",
      "891/891 [==============================] - 0s - loss: 0.6597 - acc: 0.6162     \n",
      "Epoch 5/10\n",
      "891/891 [==============================] - 0s - loss: 0.6533 - acc: 0.6162     \n",
      "Epoch 6/10\n",
      "891/891 [==============================] - ETA: 0s - loss: 0.6550 - acc: 0.606 - 0s - loss: 0.6474 - acc: 0.6162     \n",
      "Epoch 7/10\n",
      "891/891 [==============================] - 0s - loss: 0.6421 - acc: 0.6162     \n",
      "Epoch 8/10\n",
      "891/891 [==============================] - 0s - loss: 0.6359 - acc: 0.6218     \n",
      "Epoch 9/10\n",
      "891/891 [==============================] - 0s - loss: 0.6300 - acc: 0.6364     \n",
      "Epoch 10/10\n",
      "891/891 [==============================] - 0s - loss: 0.6239 - acc: 0.6352     \n"
     ]
    },
    {
     "data": {
      "text/plain": [
       "<keras.callbacks.History at 0x11e5bd128>"
      ]
     },
     "execution_count": 84,
     "metadata": {},
     "output_type": "execute_result"
    }
   ],
   "source": [
    "# Fit the model\n",
    "model.fit(predictors, targets)"
   ]
  },
  {
   "cell_type": "code",
   "execution_count": 85,
   "metadata": {},
   "outputs": [
    {
     "name": "stdout",
     "output_type": "stream",
     "text": [
      "[ 0.66794533]\n"
     ]
    }
   ],
   "source": [
    "# Predict with the Model\n",
    "\n",
    "# Make a fake person (out-of-data sample) to predict the odds of survival\n",
    "new_data = {'Age' : [10], 'SibSp' : [2], 'Parch' : [2], 'Fare' : [500],\n",
    "            'Sex_female' : [1], 'Sex_male' : [0],\n",
    "            'Pclass_1' : [0], 'Pclass_2' : [1], 'Pclass_3' : [0],\n",
    "            'Embarked_C' : [0], 'Embarked_Q' : [0], 'Embarked_S' : [1]}\n",
    "df = pd.DataFrame(data=new_data)\n",
    "pred_data = df.as_matrix()\n",
    "\n",
    "# Calculate predictions: predictions\n",
    "predictions = model.predict(pred_data)\n",
    "\n",
    "# Calculate predicted probability of survival: predicted_prob_true\n",
    "predicted_prob_true = predictions[:,1]\n",
    "\n",
    "# print predicted_prob_true\n",
    "print(predicted_prob_true)"
   ]
  },
  {
   "cell_type": "code",
   "execution_count": null,
   "metadata": {
    "collapsed": true
   },
   "outputs": [],
   "source": []
  }
 ],
 "metadata": {
  "kernelspec": {
   "display_name": "Python 3",
   "language": "python",
   "name": "python3"
  },
  "language_info": {
   "codemirror_mode": {
    "name": "ipython",
    "version": 3
   },
   "file_extension": ".py",
   "mimetype": "text/x-python",
   "name": "python",
   "nbconvert_exporter": "python",
   "pygments_lexer": "ipython3",
   "version": "3.5.1"
  }
 },
 "nbformat": 4,
 "nbformat_minor": 2
}
